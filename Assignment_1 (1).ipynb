{
  "cells": [
    {
      "cell_type": "markdown",
      "metadata": {
        "id": "TWWLTwYZorzC"
      },
      "source": [
        "# Introduction To Data Science – Assignment 1\n",
        "\n",
        "---\n",
        "\n",
        "### Sections A – B – C – D\n",
        "\n",
        "---\n",
        "\n",
        "***Instructions***\n",
        "\n",
        "Due Date: Sunday 18th September 2022 – 11:59PM\n",
        "\n",
        "Name the file in the format Lyyxxxx and save it as .ipynb (e.g. L201234.ipynb)\n",
        "\n",
        "Submission will be taken on **GitHub and Google Classroom (submit the .ipynb file)** - Instructions to upload onto GitHub are provided in the link https://docs.google.com/document/d/1BR1ULOGeGWJVU6Rr6Qty1FR-quVRZyRvQGII6nEs-wo/edit?usp=sharing\n",
        "\n",
        "After uploading and submitting the .ipynb file onto Google Classroom, also private comment the link to the GitHub repository.\n",
        "\n",
        "All source files needed to complete this assignment can be found on the following Google Drive link https://drive.google.com/drive/folders/1VrkaVcExGWqilSeh50WZe4gUBjmUiJ9b?usp=sharing\n",
        "\n",
        "TA Emails\n",
        "\n",
        "Section A, C - Muhammad Maarij l192347@lhr.nu.edu.pk\n",
        "\n",
        "Section B, D - Hira Ijaz l192377@lhr.nu.edu.pk\n",
        "\n",
        "Happy Coding 😊\n",
        "\n",
        "---"
      ]
    },
    {
      "cell_type": "markdown",
      "metadata": {
        "id": "arB_0r9H0jjC"
      },
      "source": [
        "---\n",
        "## Question 1\n",
        "---"
      ]
    },
    {
      "cell_type": "markdown",
      "metadata": {
        "id": "qHPTNDy30n99"
      },
      "source": [
        "Define a procedure called \"check_input\" that takes an input as a square list of lists (2D Matrix of N x N) and returns a boolen \"true\" if the input is valid or \"false\" otherwise, according to the following criteria.\n",
        "\n",
        "1. Each coloumn must contain numbers from between 1 and N, with no duplicates.\n",
        "2. Each row must contain numbers from between 1 and N, with no duplicates."
      ]
    },
    {
      "cell_type": "code",
      "execution_count": 119,
      "metadata": {
        "id": "S2_Zic322Lt7"
      },
      "outputs": [],
      "source": [
        "# define procedure here\n",
        "def check_input(test):\n",
        "    for i in range(0,len(test)): \n",
        "        for l in range(0,len(test[0])):\n",
        "            for k in range(l+1,len(test[0])):\n",
        "                if(test[i][l] == test[i][k]):\n",
        "                    return False\n",
        "    \n",
        "    for i in range(0,len(test)): \n",
        "        for l in range(0,len(test[0])):\n",
        "            for k in range(l+1,len(test[0])):\n",
        "                if(test[l][i] == test[k][i]):\n",
        "                    return False\n",
        "\n",
        "    return True\n",
        "           "
      ]
    },
    {
      "cell_type": "code",
      "execution_count": 122,
      "metadata": {
        "id": "wdL9MWgq2ZbP"
      },
      "outputs": [
        {
          "name": "stdout",
          "output_type": "stream",
          "text": [
            "True\n",
            "False\n",
            "True\n"
          ]
        }
      ],
      "source": [
        "# run this block to test code after defining the procedure\n",
        "\n",
        "test1 = [[1, 2, 3],\n",
        "        [2, 3, 1],\n",
        "        [3, 1, 2]]\n",
        "\n",
        "test2 = [[1, 2, 3, 4],\n",
        "        [2, 3, 1, 3],\n",
        "        [3, 1, 2, 3],\n",
        "        [4, 4, 4, 4]]\n",
        "\n",
        "test3 = [['a', 'b', 'c'],\n",
        "        ['b', 'c', 'a'],\n",
        "        ['c', 'a', 'b']]\n",
        "\n",
        "print(check_input(test1)) # must return true\n",
        "print(check_input(test2)) # must return false\n",
        "print(check_input(test3)) # must return false"
      ]
    },
    {
      "cell_type": "markdown",
      "metadata": {
        "id": "4RVTlnhWqOUC"
      },
      "source": [
        "---\n",
        "## Question 2\n",
        "---"
      ]
    },
    {
      "cell_type": "markdown",
      "metadata": {
        "id": "Uyc7JPtNt0pR"
      },
      "source": [
        "**Part A** - Import the file \"StudentMarkSheet.csv\" as a Pandas DataFrame and print the information for the dataframe"
      ]
    },
    {
      "cell_type": "code",
      "execution_count": 54,
      "metadata": {
        "id": "wYrt7e6Xop2P"
      },
      "outputs": [],
      "source": [
        "import pandas as pd \n",
        "import numpy as np\n",
        "import matplotlib.pyplot as plt\n",
        "import seaborn as sns"
      ]
    },
    {
      "cell_type": "code",
      "execution_count": 4,
      "metadata": {},
      "outputs": [
        {
          "data": {
            "text/html": [
              "<div>\n",
              "<style scoped>\n",
              "    .dataframe tbody tr th:only-of-type {\n",
              "        vertical-align: middle;\n",
              "    }\n",
              "\n",
              "    .dataframe tbody tr th {\n",
              "        vertical-align: top;\n",
              "    }\n",
              "\n",
              "    .dataframe thead th {\n",
              "        text-align: right;\n",
              "    }\n",
              "</style>\n",
              "<table border=\"1\" class=\"dataframe\">\n",
              "  <thead>\n",
              "    <tr style=\"text-align: right;\">\n",
              "      <th></th>\n",
              "      <th>Student name</th>\n",
              "      <th>Exam name</th>\n",
              "      <th>Exam date</th>\n",
              "      <th>Marks</th>\n",
              "    </tr>\n",
              "  </thead>\n",
              "  <tbody>\n",
              "    <tr>\n",
              "      <th>0</th>\n",
              "      <td>James Walker</td>\n",
              "      <td>Biology</td>\n",
              "      <td>05/06/2016</td>\n",
              "      <td>31.0</td>\n",
              "    </tr>\n",
              "    <tr>\n",
              "      <th>1</th>\n",
              "      <td>Velma Clemons</td>\n",
              "      <td>Biology</td>\n",
              "      <td>05/06/2016</td>\n",
              "      <td>43.0</td>\n",
              "    </tr>\n",
              "    <tr>\n",
              "      <th>2</th>\n",
              "      <td>Kibo Underwood</td>\n",
              "      <td>Biology</td>\n",
              "      <td>05/06/2016</td>\n",
              "      <td>81.0</td>\n",
              "    </tr>\n",
              "    <tr>\n",
              "      <th>3</th>\n",
              "      <td>Louis Mcgee</td>\n",
              "      <td>Biology</td>\n",
              "      <td>05/06/2016</td>\n",
              "      <td>11.0</td>\n",
              "    </tr>\n",
              "    <tr>\n",
              "      <th>4</th>\n",
              "      <td>Phyllis Paul</td>\n",
              "      <td>Biology</td>\n",
              "      <td>05/06/2016</td>\n",
              "      <td>18.0</td>\n",
              "    </tr>\n",
              "    <tr>\n",
              "      <th>...</th>\n",
              "      <td>...</td>\n",
              "      <td>...</td>\n",
              "      <td>...</td>\n",
              "      <td>...</td>\n",
              "    </tr>\n",
              "    <tr>\n",
              "      <th>195</th>\n",
              "      <td>Yen Bowers</td>\n",
              "      <td>Sociology</td>\n",
              "      <td>21/06/2016</td>\n",
              "      <td>52.0</td>\n",
              "    </tr>\n",
              "    <tr>\n",
              "      <th>196</th>\n",
              "      <td>Ryan Pena</td>\n",
              "      <td>Sociology</td>\n",
              "      <td>21/06/2016</td>\n",
              "      <td>16.0</td>\n",
              "    </tr>\n",
              "    <tr>\n",
              "      <th>197</th>\n",
              "      <td>Portia Hamilton</td>\n",
              "      <td>Sociology</td>\n",
              "      <td>21/06/2016</td>\n",
              "      <td>34.0</td>\n",
              "    </tr>\n",
              "    <tr>\n",
              "      <th>198</th>\n",
              "      <td>Sydnee Chambers</td>\n",
              "      <td>Sociology</td>\n",
              "      <td>21/06/2016</td>\n",
              "      <td>76.0</td>\n",
              "    </tr>\n",
              "    <tr>\n",
              "      <th>199</th>\n",
              "      <td>Stacy Small</td>\n",
              "      <td>Sociology</td>\n",
              "      <td>21/06/2016</td>\n",
              "      <td>96.0</td>\n",
              "    </tr>\n",
              "  </tbody>\n",
              "</table>\n",
              "<p>200 rows × 4 columns</p>\n",
              "</div>"
            ],
            "text/plain": [
              "        Student name  Exam name   Exam date  Marks\n",
              "0       James Walker    Biology  05/06/2016   31.0\n",
              "1      Velma Clemons    Biology  05/06/2016   43.0\n",
              "2     Kibo Underwood    Biology  05/06/2016   81.0\n",
              "3        Louis Mcgee    Biology  05/06/2016   11.0\n",
              "4       Phyllis Paul    Biology  05/06/2016   18.0\n",
              "..               ...        ...         ...    ...\n",
              "195       Yen Bowers  Sociology  21/06/2016   52.0\n",
              "196        Ryan Pena  Sociology  21/06/2016   16.0\n",
              "197  Portia Hamilton  Sociology  21/06/2016   34.0\n",
              "198  Sydnee Chambers  Sociology  21/06/2016   76.0\n",
              "199      Stacy Small  Sociology  21/06/2016   96.0\n",
              "\n",
              "[200 rows x 4 columns]"
            ]
          },
          "execution_count": 4,
          "metadata": {},
          "output_type": "execute_result"
        }
      ],
      "source": [
        "df = pd.read_csv(\"StudentMarkSheet.csv\")\n",
        "df"
      ]
    },
    {
      "cell_type": "markdown",
      "metadata": {
        "id": "jIaMvgcft_i0"
      },
      "source": [
        "**Part B** - Remove any rows that do not contain all the data. Also print the following information.\n",
        "\n",
        "1. Number of rows before\n",
        "2. Number of rows containing null data\n",
        "3. Number of rows after"
      ]
    },
    {
      "cell_type": "code",
      "execution_count": 9,
      "metadata": {
        "id": "_ov_SWdxuZUm"
      },
      "outputs": [
        {
          "name": "stdout",
          "output_type": "stream",
          "text": [
            "no of rows before droping null data :  200\n",
            "no of rows after droping null data :  196\n"
          ]
        }
      ],
      "source": [
        "print(\"no of rows before droping null data : \",df.shape[0])\n",
        "df.dropna(inplace=True)\n",
        "print(\"no of rows after droping null data : \",df.shape[0])"
      ]
    },
    {
      "cell_type": "markdown",
      "metadata": {
        "id": "2kd9zAX6wkXM"
      },
      "source": [
        "**Part C** - Print all the marks along with the subject for the student named \"James Walker\""
      ]
    },
    {
      "cell_type": "code",
      "execution_count": 35,
      "metadata": {
        "id": "N0HWJN-PwuSo"
      },
      "outputs": [
        {
          "data": {
            "text/html": [
              "<div>\n",
              "<style scoped>\n",
              "    .dataframe tbody tr th:only-of-type {\n",
              "        vertical-align: middle;\n",
              "    }\n",
              "\n",
              "    .dataframe tbody tr th {\n",
              "        vertical-align: top;\n",
              "    }\n",
              "\n",
              "    .dataframe thead th {\n",
              "        text-align: right;\n",
              "    }\n",
              "</style>\n",
              "<table border=\"1\" class=\"dataframe\">\n",
              "  <thead>\n",
              "    <tr style=\"text-align: right;\">\n",
              "      <th></th>\n",
              "      <th>Student name</th>\n",
              "      <th>Exam name</th>\n",
              "      <th>Exam date</th>\n",
              "      <th>Marks</th>\n",
              "    </tr>\n",
              "  </thead>\n",
              "  <tbody>\n",
              "    <tr>\n",
              "      <th>0</th>\n",
              "      <td>James Walker</td>\n",
              "      <td>Biology</td>\n",
              "      <td>05/06/2016</td>\n",
              "      <td>31.0</td>\n",
              "    </tr>\n",
              "    <tr>\n",
              "      <th>42</th>\n",
              "      <td>James Walker</td>\n",
              "      <td>Chemistry</td>\n",
              "      <td>15/06/2016</td>\n",
              "      <td>61.0</td>\n",
              "    </tr>\n",
              "    <tr>\n",
              "      <th>71</th>\n",
              "      <td>James Walker</td>\n",
              "      <td>Mathematics</td>\n",
              "      <td>29/07/2016</td>\n",
              "      <td>23.0</td>\n",
              "    </tr>\n",
              "    <tr>\n",
              "      <th>150</th>\n",
              "      <td>James Walker</td>\n",
              "      <td>Physics</td>\n",
              "      <td>10/06/2016</td>\n",
              "      <td>100.0</td>\n",
              "    </tr>\n",
              "    <tr>\n",
              "      <th>180</th>\n",
              "      <td>James Walker</td>\n",
              "      <td>Sociology</td>\n",
              "      <td>21/06/2016</td>\n",
              "      <td>73.0</td>\n",
              "    </tr>\n",
              "  </tbody>\n",
              "</table>\n",
              "</div>"
            ],
            "text/plain": [
              "     Student name    Exam name   Exam date  Marks\n",
              "0    James Walker      Biology  05/06/2016   31.0\n",
              "42   James Walker    Chemistry  15/06/2016   61.0\n",
              "71   James Walker  Mathematics  29/07/2016   23.0\n",
              "150  James Walker      Physics  10/06/2016  100.0\n",
              "180  James Walker    Sociology  21/06/2016   73.0"
            ]
          },
          "execution_count": 35,
          "metadata": {},
          "output_type": "execute_result"
        }
      ],
      "source": [
        "jameswalker=df[df['Student name']==\"James Walker\"]\n",
        "jameswalker\n"
      ]
    },
    {
      "cell_type": "markdown",
      "metadata": {
        "id": "ts8Y1EXmwzhf"
      },
      "source": [
        "---\n",
        "## Question 3\n",
        "---"
      ]
    },
    {
      "cell_type": "markdown",
      "metadata": {
        "id": "PJENm_hpw3GQ"
      },
      "source": [
        "**Part A** - From the DataFrame created in Question 2, calculate the average marks for each subject"
      ]
    },
    {
      "cell_type": "code",
      "execution_count": 68,
      "metadata": {
        "id": "AxhCtST5xS3L"
      },
      "outputs": [
        {
          "name": "stdout",
          "output_type": "stream",
          "text": [
            "     Exam name      Marks\n",
            "0      Biology  47.894737\n",
            "1    Chemistry  50.576923\n",
            "2  Mathematics  48.972222\n",
            "3   Philosophy  47.270270\n",
            "4      Physics  51.761905\n",
            "5    Sociology  56.026316\n"
          ]
        }
      ],
      "source": [
        "\n",
        "Average = df.groupby('Exam name',as_index=False).mean()\n",
        "print(Average)\n"
      ]
    },
    {
      "cell_type": "markdown",
      "metadata": {
        "id": "NDlaA7hHxUBc"
      },
      "source": [
        "**Part B** - Using the averages you just calculated, plot a Bar Graph showing the average marks of each subject"
      ]
    },
    {
      "cell_type": "code",
      "execution_count": 69,
      "metadata": {
        "id": "LWoPFZBOyyNn"
      },
      "outputs": [
        {
          "data": {
            "text/plain": [
              "<AxesSubplot:xlabel='Exam name', ylabel='Marks'>"
            ]
          },
          "execution_count": 69,
          "metadata": {},
          "output_type": "execute_result"
        },
        {
          "data": {
            "image/png": "[encoded data removed]",
            "text/plain": [
              "<Figure size 432x288 with 1 Axes>"
            ]
          },
          "metadata": {
            "needs_background": "light"
          },
          "output_type": "display_data"
        }
      ],
      "source": [
        "sns.barplot(x=\"Exam name\",y='Marks',data=Average)"
      ]
    },
    {
      "cell_type": "markdown",
      "metadata": {
        "id": "dWlOSOIs6d1R"
      },
      "source": [
        "---\n",
        "## Question 4\n",
        "---"
      ]
    },
    {
      "cell_type": "markdown",
      "metadata": {
        "id": "b4s-pN4v6kgb"
      },
      "source": [
        "**Part A** - Import the file \"CatData.csv\" and preprocess it to remove any null values"
      ]
    },
    {
      "cell_type": "code",
      "execution_count": 71,
      "metadata": {
        "id": "mvZ3xrBV9b1s"
      },
      "outputs": [
        {
          "data": {
            "text/html": [
              "<div>\n",
              "<style scoped>\n",
              "    .dataframe tbody tr th:only-of-type {\n",
              "        vertical-align: middle;\n",
              "    }\n",
              "\n",
              "    .dataframe tbody tr th {\n",
              "        vertical-align: top;\n",
              "    }\n",
              "\n",
              "    .dataframe thead th {\n",
              "        text-align: right;\n",
              "    }\n",
              "</style>\n",
              "<table border=\"1\" class=\"dataframe\">\n",
              "  <thead>\n",
              "    <tr style=\"text-align: right;\">\n",
              "      <th></th>\n",
              "      <th>Tail Length (cm)</th>\n",
              "      <th>Mass (kg)</th>\n",
              "    </tr>\n",
              "  </thead>\n",
              "  <tbody>\n",
              "    <tr>\n",
              "      <th>0</th>\n",
              "      <td>18.1</td>\n",
              "      <td>3.750</td>\n",
              "    </tr>\n",
              "    <tr>\n",
              "      <th>1</th>\n",
              "      <td>18.6</td>\n",
              "      <td>3.800</td>\n",
              "    </tr>\n",
              "    <tr>\n",
              "      <th>2</th>\n",
              "      <td>19.5</td>\n",
              "      <td>3.250</td>\n",
              "    </tr>\n",
              "    <tr>\n",
              "      <th>3</th>\n",
              "      <td>19.3</td>\n",
              "      <td>3.450</td>\n",
              "    </tr>\n",
              "    <tr>\n",
              "      <th>4</th>\n",
              "      <td>19.0</td>\n",
              "      <td>3.650</td>\n",
              "    </tr>\n",
              "    <tr>\n",
              "      <th>...</th>\n",
              "      <td>...</td>\n",
              "      <td>...</td>\n",
              "    </tr>\n",
              "    <tr>\n",
              "      <th>337</th>\n",
              "      <td>20.7</td>\n",
              "      <td>4.000</td>\n",
              "    </tr>\n",
              "    <tr>\n",
              "      <th>338</th>\n",
              "      <td>20.2</td>\n",
              "      <td>3.400</td>\n",
              "    </tr>\n",
              "    <tr>\n",
              "      <th>339</th>\n",
              "      <td>19.3</td>\n",
              "      <td>3.775</td>\n",
              "    </tr>\n",
              "    <tr>\n",
              "      <th>340</th>\n",
              "      <td>21.0</td>\n",
              "      <td>4.100</td>\n",
              "    </tr>\n",
              "    <tr>\n",
              "      <th>341</th>\n",
              "      <td>19.8</td>\n",
              "      <td>3.775</td>\n",
              "    </tr>\n",
              "  </tbody>\n",
              "</table>\n",
              "<p>342 rows × 2 columns</p>\n",
              "</div>"
            ],
            "text/plain": [
              "     Tail Length (cm)  Mass (kg)\n",
              "0                18.1      3.750\n",
              "1                18.6      3.800\n",
              "2                19.5      3.250\n",
              "3                19.3      3.450\n",
              "4                19.0      3.650\n",
              "..                ...        ...\n",
              "337              20.7      4.000\n",
              "338              20.2      3.400\n",
              "339              19.3      3.775\n",
              "340              21.0      4.100\n",
              "341              19.8      3.775\n",
              "\n",
              "[342 rows x 2 columns]"
            ]
          },
          "execution_count": 71,
          "metadata": {},
          "output_type": "execute_result"
        }
      ],
      "source": [
        "df_catData=pd.read_csv(\"CatData.csv\")\n",
        "df_catData"
      ]
    },
    {
      "cell_type": "code",
      "execution_count": 82,
      "metadata": {},
      "outputs": [],
      "source": [
        "df_catData.dropna(inplace=True)"
      ]
    },
    {
      "cell_type": "code",
      "execution_count": 96,
      "metadata": {},
      "outputs": [],
      "source": [
        "x = np.array(df_catData['Tail Length (cm)'])\n",
        "y = np.array(df_catData['Mass (kg)'])"
      ]
    },
    {
      "cell_type": "markdown",
      "metadata": {
        "id": "bWxuB3ep9SWA"
      },
      "source": [
        "**Part B** - Identify the independant and dependant variables (comment answer below)"
      ]
    },
    {
      "cell_type": "code",
      "execution_count": 104,
      "metadata": {
        "id": "TS9tvuRt9cWr"
      },
      "outputs": [],
      "source": [
        "# dependant variable: mass\n",
        "# independant variable: tail length\n",
        "y = y.reshape(342,1)\n",
        "x = x.reshape(342,1)"
      ]
    },
    {
      "cell_type": "markdown",
      "metadata": {
        "id": "xPHVA3cX7uk9"
      },
      "source": [
        "**Part C** - Create a linear regression model using sklearn and fit it to the data you just imported\n"
      ]
    },
    {
      "cell_type": "code",
      "execution_count": 107,
      "metadata": {
        "id": "WYVNRotH9cyo"
      },
      "outputs": [
        {
          "data": {
            "text/plain": [
              "LinearRegression()"
            ]
          },
          "execution_count": 107,
          "metadata": {},
          "output_type": "execute_result"
        }
      ],
      "source": [
        "from sklearn.linear_model import LinearRegression\n",
        "model = LinearRegression()\n",
        "model.fit(x,y)"
      ]
    },
    {
      "cell_type": "markdown",
      "metadata": {
        "id": "0QMipKhb830G"
      },
      "source": [
        "**Part D** - Print the values for slope and y-intercept"
      ]
    },
    {
      "cell_type": "code",
      "execution_count": 108,
      "metadata": {
        "id": "R7cvi3KB9dJh"
      },
      "outputs": [
        {
          "name": "stdout",
          "output_type": "stream",
          "text": [
            "slope :  [[0.49685566]]\n",
            "intercept :  [-5.78083136]\n"
          ]
        }
      ],
      "source": [
        "print('slope : ',model.coef_)\n",
        "print('intercept : ',model.intercept_)\n"
      ]
    },
    {
      "cell_type": "markdown",
      "metadata": {
        "id": "IIq-BQYp_i33"
      },
      "source": [
        "**Part E** - Plot a scatter graph of the original data and a regression line on the same figure (example with dummy data shown below)\n",
        "\n",
        "![](https://drive.google.com/uc?export=view&id=1o_NAsNjfx7zAh9m-UjvWB3rta6uraKdY)"
      ]
    },
    {
      "cell_type": "code",
      "execution_count": 112,
      "metadata": {
        "id": "jhz8gTYt_lCn"
      },
      "outputs": [
        {
          "data": {
            "image/png": "[encoded data removed]",
            "text/plain": [
              "<Figure size 432x288 with 1 Axes>"
            ]
          },
          "metadata": {
            "needs_background": "light"
          },
          "output_type": "display_data"
        }
      ],
      "source": [
        "plt.scatter(x,y)\n",
        "y_predicted = (model.coef_*x) + model.intercept_\n",
        "plt.plot(x,y_predicted,color='red')\n",
        "plt.show()"
      ]
    },
    {
      "cell_type": "code",
      "execution_count": null,
      "metadata": {},
      "outputs": [],
      "source": []
    }
  ],
  "metadata": {
    "colab": {
      "collapsed_sections": [],
      "provenance": []
    },
    "kernelspec": {
      "display_name": "Python 3.9.7 ('base')",
      "language": "python",
      "name": "python3"
    },
    "language_info": {
      "codemirror_mode": {
        "name": "ipython",
        "version": 3
      },
      "file_extension": ".py",
      "mimetype": "text/x-python",
      "name": "python",
      "nbconvert_exporter": "python",
      "pygments_lexer": "ipython3",
      "version": "3.9.7"
    },
    "vscode": {
      "interpreter": {
        "hash": "5ae58900cfbb8c43ab3495913814b7cf26024f51651a94ce8bf64d6111688e8d"
      }
    }
  },
  "nbformat": 4,
  "nbformat_minor": 0
}
